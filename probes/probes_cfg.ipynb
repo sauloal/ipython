{
 "cells": [
  {
   "cell_type": "code",
   "execution_count": null,
   "metadata": {
    "collapsed": true
   },
   "outputs": [],
   "source": [
    "config['out_extensions'] = ['eps', 'png', 'pdf']\n",
    "\n",
    "MAX_ROWS        = 10000\n",
    "\n",
    "NROWS           = 1000\n",
    "NROWS           = 10000\n",
    "NROWS           = None\n",
    "\n",
    "PARSE_VERBOSE   = False\n",
    "#PARSE_VERBOSE   = True\n",
    "\n",
    "REPORT_SIZE     = True\n",
    "\n",
    "HISTOGRAM_COLOR = (0.5,0.5,0.5)\n",
    "ALL_GRAPH_COLOR = (0.2,0.2,0.2)\n",
    "\n",
    "CHROM_FIG_SCALE_FACTOR_H = 2\n",
    "CHROM_FIG_SCALE_FACTOR_W = 2\n",
    "\n",
    "FULL_FIG_W , FULL_FIG_H  = (19 if REPORT_SIZE else 16) , 8\n",
    "CHROM_FIG_W, CHROM_FIG_H = FULL_FIG_W/CHROM_FIG_SCALE_FACTOR_W, (FULL_FIG_W*2)/CHROM_FIG_SCALE_FACTOR_H"
   ]
  },
  {
   "cell_type": "code",
   "execution_count": 1,
   "metadata": {
    "collapsed": false
   },
   "outputs": [
    {
     "ename": "NameError",
     "evalue": "name 'config' is not defined",
     "output_type": "error",
     "traceback": [
      "\u001b[1;31m---------------------------------------------------------------------------\u001b[0m",
      "\u001b[1;31mNameError\u001b[0m                                 Traceback (most recent call last)",
      "\u001b[1;32m<ipython-input-1-5e7adbf14d9b>\u001b[0m in \u001b[0;36m<module>\u001b[1;34m()\u001b[0m\n\u001b[0;32m     18\u001b[0m \u001b[1;33m\u001b[0m\u001b[0m\n\u001b[0;32m     19\u001b[0m \u001b[0mBAC_MODE\u001b[0m     \u001b[1;33m=\u001b[0m \u001b[0mFalse\u001b[0m\u001b[1;33m\u001b[0m\u001b[0m\n\u001b[1;32m---> 20\u001b[1;33m \u001b[1;32mif\u001b[0m \u001b[1;34m'BAC'\u001b[0m \u001b[1;32min\u001b[0m \u001b[0mconfig\u001b[0m\u001b[1;33m:\u001b[0m\u001b[1;33m\u001b[0m\u001b[0m\n\u001b[0m\u001b[0;32m     21\u001b[0m     \u001b[0mBAC_MODE\u001b[0m \u001b[1;33m=\u001b[0m \u001b[0mTrue\u001b[0m\u001b[1;33m\u001b[0m\u001b[0m\n\u001b[0;32m     22\u001b[0m     \u001b[0mcols_to_plot\u001b[0m\u001b[1;33m.\u001b[0m\u001b[0minsert\u001b[0m\u001b[1;33m(\u001b[0m\u001b[1;36m2\u001b[0m\u001b[1;33m,\u001b[0m \u001b[1;33m[\u001b[0m\u001b[1;34m'BLAST Coverage'\u001b[0m\u001b[1;33m,\u001b[0m \u001b[1;33m[\u001b[0m\u001b[1;36m0\u001b[0m\u001b[1;33m,\u001b[0m \u001b[0mNone\u001b[0m\u001b[1;33m]\u001b[0m\u001b[1;33m,\u001b[0m \u001b[1;36m5\u001b[0m\u001b[1;33m,\u001b[0m \u001b[1;34m'blue'\u001b[0m \u001b[1;33m]\u001b[0m\u001b[1;33m)\u001b[0m\u001b[1;33m\u001b[0m\u001b[0m\n",
      "\u001b[1;31mNameError\u001b[0m: name 'config' is not defined"
     ]
    }
   ],
   "source": [
    "cols_to_plot = [\n",
    "        # Col name                                 limit     # ticks color\n",
    "        [ \"K-mer Coverage\"                       , [0,1]   , 5,      'red'       ], \n",
    "        [ \"Sequencing Coverage\"                  , None    , 5,      'green'     ],\n",
    "        [ \"Ns\"                                   , [0.1,1] , 0,      'grey'      ],\n",
    "        [ \"AGP Contig\"                           , [0.1,1] , 0,      'grey'      ],\n",
    "        [ \"AGP Gap\"                              , [0.1,1] , 0,      'grey'      ],\n",
    "        None, #[ \"AGP Unknown\"                          , [0.1,1] , 0,      'grey'      ],\n",
    "        None, #[ \"AGP Other\"                            , [0.1,1] , 0,      'grey'      ],\n",
    "        [ \"K-mer Coverage averaged: 500 bp\"      , [0,None], 1,      'indianred' ],\n",
    "        None, #[ \"K-mer Coverage averaged: 2.5 Kbp\"     , [0,None], 2,      'limegreen' ],\n",
    "        [ \"K-mer Coverage averaged: 5 Kbp\"       , [0,None], 1,      'cyan'      ],\n",
    "        None, #[ \"K-mer Coverage averaged: 50 Kbp\"      , [0,None], 2,      'orange'    ],\n",
    "        [ \"K-mer Coverage averaged: 1 Mbp\"       , [0,None], 1,      'olive'     ],\n",
    "        None, #[ \"K-mer Coverage averaged: 5 Kbp before\", [0,None], 2,      'violet'    ],\n",
    "        None #[ \"K-mer Coverage averaged: 5 Kbp after\" , [0,None], 2,      'maroon'    ]\n",
    "    ]\n",
    "\n",
    "BAC_MODE     = False\n",
    "if 'BAC' in config:\n",
    "    BAC_MODE = True\n",
    "    cols_to_plot.insert(2, ['BLAST Coverage', [0, None], 5, 'blue' ])\n",
    "else:\n",
    "    cols_to_plot.insert(2, None)"
   ]
  }
 ],
 "metadata": {
  "kernelspec": {
   "display_name": "Python 2",
   "language": "python",
   "name": "python2"
  },
  "language_info": {
   "codemirror_mode": {
    "name": "ipython",
    "version": 2
   },
   "file_extension": ".py",
   "mimetype": "text/x-python",
   "name": "python",
   "nbconvert_exporter": "python",
   "pygments_lexer": "ipython2",
   "version": "2.7.9"
  }
 },
 "nbformat": 4,
 "nbformat_minor": 0
}
