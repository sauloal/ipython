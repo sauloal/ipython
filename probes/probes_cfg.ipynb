{
 "cells": [
  {
   "cell_type": "code",
   "execution_count": null,
   "metadata": {
    "collapsed": true
   },
   "outputs": [],
   "source": [
    "config['out_extensions'] = ['eps', 'png', 'pdf']\n",
    "\n",
    "MAX_ROWS        = 10000\n",
    "\n",
    "NROWS           = 1000\n",
    "NROWS           = 10000\n",
    "NROWS           = None\n",
    "\n",
    "PARSE_VERBOSE   = False\n",
    "#PARSE_VERBOSE   = True\n",
    "\n",
    "REPORT_SIZE     = True\n",
    "\n",
    "HISTOGRAM_COLOR = (0.5,0.5,0.5)\n",
    "ALL_GRAPH_COLOR = (0.2,0.2,0.2)\n",
    "\n",
    "CHROM_FIG_SCALE_FACTOR_H = 2\n",
    "CHROM_FIG_SCALE_FACTOR_W = 2\n",
    "\n",
    "FULL_FIG_W , FULL_FIG_H  = (19 if REPORT_SIZE else 16) , 8\n",
    "CHROM_FIG_W, CHROM_FIG_H = FULL_FIG_W/CHROM_FIG_SCALE_FACTOR_W, (FULL_FIG_W*2)/CHROM_FIG_SCALE_FACTOR_H"
   ]
  },
  {
   "cell_type": "code",
   "execution_count": null,
   "metadata": {
    "collapsed": true
   },
   "outputs": [],
   "source": [
    "cols_to_plot = [\n",
    "        # Col name                                 limit     # ticks\n",
    "        [ \"K-mer Coverage\"                       , [0,1]   , 5 ], \n",
    "        [ \"Sequencing Coverage\"                  , None    , 5 ],\n",
    "        [ \"Ns\"                                   , [0.1,1] , 0 ],\n",
    "        [ \"AGP Contig\"                           , [0.1,1] , 0 ],\n",
    "        [ \"AGP Gap\"                              , [0.1,1] , 0 ],\n",
    "        [ \"AGP Unknown\"                          , [0.1,1] , 0 ],\n",
    "        [ \"AGP Other\"                            , [0.1,1] , 0 ],\n",
    "        [ \"K-mer Coverage averaged: 500 bp\"      , [0,None], 2 ],\n",
    "        [ \"K-mer Coverage averaged: 2.5 Kbp\"     , [0,None], 2 ],\n",
    "        [ \"K-mer Coverage averaged: 5 Kbp\"       , [0,None], 2 ],\n",
    "        [ \"K-mer Coverage averaged: 50 Kbp\"      , [0,None], 2 ],\n",
    "        [ \"K-mer Coverage averaged: 1 Mbp\"       , [0,None], 2 ],\n",
    "        [ \"K-mer Coverage averaged: 5 Kbp before\", [0,None], 2 ],\n",
    "        [ \"K-mer Coverage averaged: 5 Kbp after\" , [0,None], 2 ]\n",
    "    ]\n",
    "\n",
    "BAC_MODE     = False\n",
    "if 'BAC' in config:\n",
    "    BAC_MODE = True\n",
    "    cols_to_plot.insert(2, ['BLAST Coverage', [0, None], 5 ])\n",
    "else:\n",
    "    cols_to_plot.insert(2, None)"
   ]
  }
 ],
 "metadata": {
  "kernelspec": {
   "display_name": "Python 2",
   "language": "python",
   "name": "python2"
  },
  "language_info": {
   "codemirror_mode": {
    "name": "ipython",
    "version": 2
   },
   "file_extension": ".py",
   "mimetype": "text/x-python",
   "name": "python",
   "nbconvert_exporter": "python",
   "pygments_lexer": "ipython2",
   "version": "2.7.6"
  }
 },
 "nbformat": 4,
 "nbformat_minor": 0
}
