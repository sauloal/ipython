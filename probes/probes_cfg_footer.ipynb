{
 "cells": [
  {
   "cell_type": "code",
   "execution_count": null,
   "metadata": {
    "collapsed": true
   },
   "outputs": [],
   "source": [
    "#%install_ext https://raw.githubusercontent.com/rasbt/python_reference/master/ipython_magic/watermark.py\n",
    "%reload_ext watermark\n",
    "%watermark --author \"Saulo Aflitos\" --date --updated --python --hostname --machine --githash --packages numpy,scipy,matplotlib,pandas,IPython"
   ]
  },
  {
   "cell_type": "code",
   "execution_count": null,
   "metadata": {
    "collapsed": true
   },
   "outputs": [],
   "source": [
    "#http://stackoverflow.com/questions/27934885/how-to-hide-code-from-cells-in-ipython-notebook-visualized-with-nbviewer\n",
    "#from IPython.display import HTML\n",
    "\n",
    "#output_scroll overflow undef\n",
    "#output_scroll height undef\n",
    "\n",
    "from IPython.display import HTML, display\n",
    "\n",
    "display(HTML('''<script>\n",
    "\n",
    "scroll_show=true; \n",
    "function scroll_toggle() {\n",
    "    if (scroll_show){\n",
    "        $('.output_scroll').css('overflow', 'visible');\n",
    "        $('.output_scroll').css('height'  , 'auto'   );\n",
    "\n",
    "        var classes_to_hide = ['div.input', 'div.output_stderr', 'div.output_prompt', 'div.input_prompt', 'div.prompt', 'div.out_prompt_overlay.prompt'];\n",
    "\n",
    "        for ( var c in classes_to_hide ) {\n",
    "            $(classes_to_hide[c]).hide();\n",
    "            $(classes_to_hide[c]).css('visibility', 'hidden');\n",
    "        }\n",
    "    } else {\n",
    "        $('.output_scroll').css('overflow', 'scroll');\n",
    "        $('.output_scroll').css('height'  , '2.4em' );\n",
    "\n",
    "        var classes_to_hide = ['div.input', 'div.output_stderr', 'div.output_prompt', 'div.input_prompt', 'div.prompt', 'div.out_prompt_overlay.prompt'];\n",
    "\n",
    "        for ( var c in classes_to_hide ) {\n",
    "            $(classes_to_hide[c]).show();\n",
    "            $(classes_to_hide[c]).css('visibility', 'visible');\n",
    "        }\n",
    "    }\n",
    "    scroll_show = !scroll_show;\n",
    "} \n",
    "$( document ).ready(scroll_toggle);\n",
    "</script>\n",
    "<form action=\"javascript:scroll_toggle()\"><input type=\"submit\" value=\"Click here to toggle on/off the raw code.\"></form>'''))"
   ]
  }
 ],
 "metadata": {
  "kernelspec": {
   "display_name": "Python 2",
   "language": "python",
   "name": "python2"
  },
  "language_info": {
   "codemirror_mode": {
    "name": "ipython",
    "version": 2
   },
   "file_extension": ".py",
   "mimetype": "text/x-python",
   "name": "python",
   "nbconvert_exporter": "python",
   "pygments_lexer": "ipython2",
   "version": "2.7.6"
  }
 },
 "nbformat": 4,
 "nbformat_minor": 0
}
