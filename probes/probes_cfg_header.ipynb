{
 "cells": [
  {
   "cell_type": "code",
   "execution_count": null,
   "metadata": {
    "collapsed": true
   },
   "outputs": [],
   "source": [
    "from IPython.display import HTML, display\n",
    "\n",
    "def addHeader(level, text):\n",
    "    display( HTML('''<h%(level)d>%(text)s</h%(level)d>''' % {'level':level, 'text':text}) )"
   ]
  },
  {
   "cell_type": "code",
   "execution_count": null,
   "metadata": {
    "collapsed": true
   },
   "outputs": [],
   "source": [
    "addHeader(1, 'Singularity Report')\n",
    "\n",
    "addHeader(2, \"Run:             %s\" % config['RUN'            ])\n",
    "addHeader(2, \"Chromosome:      %s\" % config['chromosome'     ])\n",
    "addHeader(2, \"Scaffold:        %s\" % config['scaffold'       ])\n",
    "\n",
    "if BAC_MODE:\n",
    "    addHeader(3, \"BAC:             %s\" % config['BAC'            ])\n",
    "    addHeader(3, \"BAC coord start: %s\" % config['BAC_coord_start'])\n",
    "    addHeader(3, \"BAC coord end:   %s\" % config['BAC_coord_end'  ])"
   ]
  },
  {
   "cell_type": "code",
   "execution_count": null,
   "metadata": {
    "collapsed": true
   },
   "outputs": [],
   "source": [
    "print \"Config\"\n",
    "for cfg in sorted(config.keys()):\n",
    "    print \"\\t%-15s: %s\" % (cfg, config[cfg])\n",
    "\n",
    "    \n",
    "print \"Max Rows     : %d\" % MAX_ROWS\n",
    "if NROWS is not None:\n",
    "    print \"Number of Rows: %d\" % NROWS\n",
    "\n",
    "\n",
    "#if PARSE_VERBOSE:\n",
    "print \"Column Names\"\n",
    "for col_to_plot in cols_to_plot:\n",
    "    if col_to_plot is None: continue\n",
    "    print \"\\t\", col_to_plot[0]"
   ]
  }
 ],
 "metadata": {
  "kernelspec": {
   "display_name": "Python 2",
   "language": "python",
   "name": "python2"
  },
  "language_info": {
   "codemirror_mode": {
    "name": "ipython",
    "version": 2
   },
   "file_extension": ".py",
   "mimetype": "text/x-python",
   "name": "python",
   "nbconvert_exporter": "python",
   "pygments_lexer": "ipython2",
   "version": "2.7.9"
  }
 },
 "nbformat": 4,
 "nbformat_minor": 0
}
